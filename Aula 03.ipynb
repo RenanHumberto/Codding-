{
 "cells": [
  {
   "cell_type": "code",
   "execution_count": null,
   "metadata": {},
   "outputs": [],
   "source": [
    "Desafio do Detran "
   ]
  },
  {
   "cell_type": "code",
   "execution_count": 45,
   "metadata": {},
   "outputs": [
    {
     "ename": "SyntaxError",
     "evalue": "invalid syntax (2692343427.py, line 7)",
     "output_type": "error",
     "traceback": [
      "\u001b[1;36m  Cell \u001b[1;32mIn[45], line 7\u001b[1;36m\u001b[0m\n\u001b[1;33m    print ( 'A taxa do seu carro é de: ',  valor1  '%')\u001b[0m\n\u001b[1;37m                                                   ^\u001b[0m\n\u001b[1;31mSyntaxError\u001b[0m\u001b[1;31m:\u001b[0m invalid syntax\n"
     ]
    }
   ],
   "source": [
    "anocarro = int (input('Qual o ano do seu carro:'))\n",
    "precocarro = float(input('Qual o preço do seu carro :'))\n",
    "taxa1 = 1.0 / 100 * precocarro\n",
    "taxa2 = 1.5 / 100 * precocarro\n",
    "\n",
    "if anocarro < 1990:\n",
    "    print ( 'A taxa do seu carro é de: ',  valor1  '%')\n",
    "else:\n",
    "   \n",
    "    print ('A taxa do seu carro é de: ' , valor2 , '%' )\n"
   ]
  },
  {
   "cell_type": "code",
   "execution_count": 54,
   "metadata": {},
   "outputs": [
    {
     "name": "stdout",
     "output_type": "stream",
     "text": [
      "O seu salário antigo era de: 1000.0 e o seu novo é de 1300.0 e a diferença é de 300.0\n"
     ]
    }
   ],
   "source": [
    "salario = float(input('Qual o seu salário:'))\n",
    "cargo = input('Qual o código do seu cargo:')\n",
    "#solicitando as informações do usuário\n",
    "\n",
    "#verificando os valores\n",
    "\n",
    "\n",
    "if cargo == 'Gerente' or cargo == 'gerente' or cargo == '101':\n",
    "    novoSalario = (0.1 * salario) + salario\n",
    "\n",
    "\n",
    "elif cargo == 'Engenheiro' or cargo == 'engenheiro' or cargo == '102':\n",
    "    novoSalario = (0.2 * salario) + salario\n",
    "elif cargo == 'Tecnico' or cargo == 'tecnico' or cargo == '103' or cargo == 'Técnico' or  cargo == 'técnico':\n",
    "    novoSalario = (0.3 * salario) + salario\n",
    "else: novoSalario = (0.4 * salario) + salario\n",
    "\n",
    "print(f'O seu salário antigo era de: {salario} e o seu novo é de {novoSalario} e a diferença é de {novoSalario - salario}')\n"
   ]
  }
 ],
 "metadata": {
  "kernelspec": {
   "display_name": "Python 3",
   "language": "python",
   "name": "python3"
  },
  "language_info": {
   "codemirror_mode": {
    "name": "ipython",
    "version": 3
   },
   "file_extension": ".py",
   "mimetype": "text/x-python",
   "name": "python",
   "nbconvert_exporter": "python",
   "pygments_lexer": "ipython3",
   "version": "3.11.4"
  }
 },
 "nbformat": 4,
 "nbformat_minor": 2
}
