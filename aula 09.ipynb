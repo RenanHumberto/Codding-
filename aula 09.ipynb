{
 "cells": [
  {
   "cell_type": "markdown",
   "metadata": {},
   "source": [
    "CLaas"
   ]
  },
  {
   "cell_type": "code",
   "execution_count": 10,
   "metadata": {},
   "outputs": [],
   "source": [
    "class Animal():\n",
    "#CRIANDO UMA CLASSE    \n",
    "    #Construtor da classe\n",
    "    def __init__(self, name, weight, color): #dentro do parenteses é parametro\n",
    "        #atributos\n",
    "        self.nome = name            #atributos\n",
    "        self.peso = weight          #atributos  o SELF vai relacionar com o construtor\n",
    "        self.corDoPelo = color      #atributos\n",
    "        \n",
    "    def imprimirDados(self):\n",
    "        return('Name: %s \\nPeso: %s \\ncorDoPelo: %s' %(self.nome, self.peso, self.corDoPelo))\n",
    "    \n",
    "    def latir(self, barulho):\n",
    "        print(barulho)\n",
    "        \n"
   ]
  },
  {
   "cell_type": "markdown",
   "metadata": {},
   "source": [
    "Instanciar: trazer a classe para guardar coisas dentro"
   ]
  },
  {
   "cell_type": "code",
   "execution_count": 11,
   "metadata": {},
   "outputs": [
    {
     "name": "stdout",
     "output_type": "stream",
     "text": [
      "Name: Marlene \n",
      "Peso: 7.9 \n",
      "corDoPelo: Caramelo\n",
      "Au, Au!\n",
      "Name: Cibele \n",
      "Peso: 4.5 \n",
      "corDoPelo: Cinza\n",
      "Miau!\n"
     ]
    }
   ],
   "source": [
    "#Instanciando um objeto cachorro\n",
    "caozinho = Animal('Marlene', 7.9, 'Caramelo')\n",
    "gato = Animal('Cibele',4.5, 'Cinza')\n",
    "\n",
    "#Chamando o método do objeto criado\n",
    "print(caozinho.imprimirDados())\n",
    "caozinho.latir('Au, Au!')\n",
    "\n",
    "print(gato.imprimirDados())\n",
    "gato.latir('Miau!')"
   ]
  },
  {
   "cell_type": "code",
   "execution_count": null,
   "metadata": {},
   "outputs": [],
   "source": [
    "Att 2 "
   ]
  },
  {
   "cell_type": "code",
   "execution_count": 18,
   "metadata": {},
   "outputs": [
    {
     "name": "stdout",
     "output_type": "stream",
     "text": [
      "Construtor chamado para criar um objeto desta classe\n"
     ]
    }
   ],
   "source": [
    "#Criando uma classe chamada livro\n",
    "class Livro():\n",
    "    \n",
    "    #Este método vai incializar cada objeto criado a partir desta classe\n",
    "    #O nome deste método é __init__\n",
    "    #(self) é uma referência a cada atributo de um objeto criado a partir desta \n",
    "    def __init__(self):\n",
    "\n",
    "        #Atributos de cada objeto criado a partir desta classe.\n",
    "        # O self indica que estes são atributos dos objetos\n",
    "        self.titulo = 'O Monge e o Executivo'\n",
    "        self.isbn = 99888888\n",
    "        print ('Construtor chamado para criar um objeto desta classe')\n",
    "        \n",
    "    #Métodos são funções, que recebem como parâmetro atributos do objeto criado\n",
    "    \n",
    "    def imprime(self):\n",
    "        print('Foi criado o livro %s e ISBN %d' %(self.titulo, self.isbn))\n",
    "        \n",
    "#Criando uma instância da classe livro\n",
    "Livro1 = Livro()\n"
   ]
  },
  {
   "cell_type": "code",
   "execution_count": 21,
   "metadata": {},
   "outputs": [],
   "source": [
    "class Livro():\n",
    "    def __init__(self, titulo, isbn):\n",
    "        self.titulo = titulo\n",
    "        self.isbn = isbn\n",
    "        print ('Construtor chamado para criar um objeto desta classe')\n",
    "        \n",
    "    def imprime(self, titulo, isbn):\n",
    "        print('Foi criado o livro %s e ISBN %d' %(titulo, isbn))\n",
    "        "
   ]
  },
  {
   "cell_type": "code",
   "execution_count": 22,
   "metadata": {},
   "outputs": [
    {
     "name": "stdout",
     "output_type": "stream",
     "text": [
      "Construtor chamado para criar um objeto desta classe\n"
     ]
    }
   ],
   "source": [
    "#Criando o objeto Livro2 que é uma instância da classe livro\n",
    "Livro2 = Livro(\"A menina que Roubava Livros\", 77886611)"
   ]
  }
 ],
 "metadata": {
  "kernelspec": {
   "display_name": "Python 3",
   "language": "python",
   "name": "python3"
  },
  "language_info": {
   "codemirror_mode": {
    "name": "ipython",
    "version": 3
   },
   "file_extension": ".py",
   "mimetype": "text/x-python",
   "name": "python",
   "nbconvert_exporter": "python",
   "pygments_lexer": "ipython3",
   "version": "3.11.4"
  }
 },
 "nbformat": 4,
 "nbformat_minor": 2
}
