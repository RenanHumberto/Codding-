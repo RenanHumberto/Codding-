{
 "cells": [
  {
   "cell_type": "code",
   "execution_count": 4,
   "metadata": {},
   "outputs": [],
   "source": [
    "valor1 = float(input('Digite um número inteiro: '))\n",
    "valor2 = float(input('Digiteoutro número inteiro: '))"
   ]
  },
  {
   "cell_type": "code",
   "execution_count": 6,
   "metadata": {},
   "outputs": [
    {
     "name": "stdout",
     "output_type": "stream",
     "text": [
      "False\n",
      "False\n",
      "True\n",
      "False\n",
      "True\n"
     ]
    }
   ],
   "source": [
    "print(valor1 == valor2)\n",
    "print(valor1 > valor2)\n",
    "print(valor1 < valor2)\n",
    "print(valor1 >= valor2)\n",
    "print(valor1 <= valor2)"
   ]
  },
  {
   "cell_type": "code",
   "execution_count": 7,
   "metadata": {},
   "outputs": [
    {
     "name": "stdout",
     "output_type": "stream",
     "text": [
      "False\n"
     ]
    }
   ],
   "source": [
    "numero = 10\n",
    "print (numero> 0 and numero <10)"
   ]
  },
  {
   "cell_type": "code",
   "execution_count": null,
   "metadata": {},
   "outputs": [],
   "source": [
    "if ():\n",
    "    print()\n",
    "else(): #else são todas as outras condições.\n",
    "    print()"
   ]
  },
  {
   "cell_type": "code",
   "execution_count": 11,
   "metadata": {},
   "outputs": [
    {
     "name": "stdout",
     "output_type": "stream",
     "text": [
      "cupom invalido\n"
     ]
    }
   ],
   "source": [
    "cupom = input('digite o cupom: ')\n",
    "\n",
    "if(cupom =='aula1' or cupom == 'aula2' ):\n",
    "    print ('você ganhou 10% de desconto')\n",
    "else:\n",
    "    print('cupom invalido')"
   ]
  }
 ],
 "metadata": {
  "kernelspec": {
   "display_name": "Python 3",
   "language": "python",
   "name": "python3"
  },
  "language_info": {
   "codemirror_mode": {
    "name": "ipython",
    "version": 3
   },
   "file_extension": ".py",
   "mimetype": "text/x-python",
   "name": "python",
   "nbconvert_exporter": "python",
   "pygments_lexer": "ipython3",
   "version": "3.11.4"
  }
 },
 "nbformat": 4,
 "nbformat_minor": 2
}
