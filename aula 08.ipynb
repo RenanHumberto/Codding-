{
 "cells": [
  {
   "cell_type": "markdown",
   "metadata": {},
   "source": [
    "Funções e Métodos \n",
    "Functions and Methods "
   ]
  },
  {
   "cell_type": "code",
   "execution_count": 1,
   "metadata": {},
   "outputs": [
    {
     "name": "stdout",
     "output_type": "stream",
     "text": [
      "Número 0\n",
      "Número 1\n",
      "Número 2\n",
      "Número 3\n",
      "Número 4\n"
     ]
    }
   ],
   "source": [
    "def funcaoLeitura():\n",
    "    for i in range(5): # i é a variavel que está sendo criada agora\n",
    "        print('Número', i)\n",
    "\n",
    "funcaoLeitura()"
   ]
  },
  {
   "cell_type": "code",
   "execution_count": 3,
   "metadata": {},
   "outputs": [
    {
     "name": "stdout",
     "output_type": "stream",
     "text": [
      "O primerio número é: 1\n",
      "O segundo número é: 2\n",
      "A soma número é: 3\n"
     ]
    }
   ],
   "source": [
    "#função para somar dois numeros\n",
    "def addNum(n1,n2): #são os parametros\n",
    "    print('O primerio número é:', n1)\n",
    "    print('O segundo número é:', n2)\n",
    "    print('A soma número é:', n1 + n2)\n",
    "\n",
    "addNum(1,2)"
   ]
  },
  {
   "cell_type": "code",
   "execution_count": 4,
   "metadata": {},
   "outputs": [
    {
     "name": "stdout",
     "output_type": "stream",
     "text": [
      "O primerio número é: 2\n",
      "O segundo número é: 3\n",
      "A soma número é: 5\n"
     ]
    }
   ],
   "source": [
    "addNum(2,3)"
   ]
  },
  {
   "cell_type": "code",
   "execution_count": 5,
   "metadata": {},
   "outputs": [
    {
     "name": "stdout",
     "output_type": "stream",
     "text": [
      "O primerio número é: 1\n",
      "O segundo número é: 2\n",
      "A soma número é: 3\n"
     ]
    }
   ],
   "source": [
    "addNum(1,2)"
   ]
  },
  {
   "cell_type": "code",
   "execution_count": 6,
   "metadata": {},
   "outputs": [
    {
     "ename": "TypeError",
     "evalue": "addNum() missing 2 required positional arguments: 'n1' and 'n2'",
     "output_type": "error",
     "traceback": [
      "\u001b[1;31m---------------------------------------------------------------------------\u001b[0m",
      "\u001b[1;31mTypeError\u001b[0m                                 Traceback (most recent call last)",
      "Cell \u001b[1;32mIn[6], line 1\u001b[0m\n\u001b[1;32m----> 1\u001b[0m \u001b[43maddNum\u001b[49m\u001b[43m(\u001b[49m\u001b[43m)\u001b[49m\n",
      "\u001b[1;31mTypeError\u001b[0m: addNum() missing 2 required positional arguments: 'n1' and 'n2'"
     ]
    }
   ],
   "source": [
    "addNum()"
   ]
  },
  {
   "cell_type": "code",
   "execution_count": 10,
   "metadata": {},
   "outputs": [
    {
     "name": "stdout",
     "output_type": "stream",
     "text": [
      "Variável da função multiplica: 20\n",
      "10\n"
     ]
    }
   ],
   "source": [
    "varGlobal = 10 #essa é uma variável global\n",
    "def multiplicacao(num1, num2):\n",
    "    varLocal = (num1 * num2) #essa é uma variável local\n",
    "    print('Variável da função multiplica:', varLocal)\n",
    "\n",
    "multiplicacao(5,4) #Aqui vai dar o resultado da variável local\n",
    "print(varGlobal) #Aqui vai dar o resultado da variável global\n",
    "#mesmo que tenham o mesmo nome, como uma é local e outra global, independe delas terem o nome igual"
   ]
  },
  {
   "cell_type": "code",
   "execution_count": 13,
   "metadata": {},
   "outputs": [],
   "source": [
    "varGlobal = 10 #essa é uma variável global\n",
    "def multiplicacao(num1, num2):\n",
    "    varLocal = num1 * num2 #essa é uma variavel local\n",
    "    print('Variavel da função Multiplica', varLocal)\n",
    "\n"
   ]
  },
  {
   "cell_type": "code",
   "execution_count": 14,
   "metadata": {},
   "outputs": [
    {
     "name": "stdout",
     "output_type": "stream",
     "text": [
      "Variavel da função Multiplica 20\n"
     ]
    }
   ],
   "source": [
    "multiplicacao(5,4)"
   ]
  },
  {
   "cell_type": "code",
   "execution_count": 15,
   "metadata": {},
   "outputs": [
    {
     "ename": "NameError",
     "evalue": "name 'varLocal' is not defined",
     "output_type": "error",
     "traceback": [
      "\u001b[1;31m---------------------------------------------------------------------------\u001b[0m",
      "\u001b[1;31mNameError\u001b[0m                                 Traceback (most recent call last)",
      "Cell \u001b[1;32mIn[15], line 1\u001b[0m\n\u001b[1;32m----> 1\u001b[0m \u001b[38;5;28mprint\u001b[39m(\u001b[43mvarLocal\u001b[49m)\n",
      "\u001b[1;31mNameError\u001b[0m: name 'varLocal' is not defined"
     ]
    }
   ],
   "source": [
    "print(varLocal) #não funciona pois ela só ocorre dentro da função, como eu chamei ela forea da função n vai funcionar\n"
   ]
  },
  {
   "cell_type": "code",
   "execution_count": 16,
   "metadata": {},
   "outputs": [],
   "source": [
    "def separarTexto(texto): #o que ta dentro do parenteses é o parametro\n",
    "    return texto.split() #split é um metodo"
   ]
  },
  {
   "cell_type": "code",
   "execution_count": 17,
   "metadata": {},
   "outputs": [
    {
     "data": {
      "text/plain": [
       "['Cibele', 'Maria']"
      ]
     },
     "execution_count": 17,
     "metadata": {},
     "output_type": "execute_result"
    }
   ],
   "source": [
    "separarTexto('Cibele Maria')"
   ]
  },
  {
   "cell_type": "code",
   "execution_count": 18,
   "metadata": {},
   "outputs": [
    {
     "data": {
      "text/plain": [
       "['Cibele', 'Maria', 'Suely']"
      ]
     },
     "execution_count": 18,
     "metadata": {},
     "output_type": "execute_result"
    }
   ],
   "source": [
    "separarTexto('Cibele Maria Suely')"
   ]
  },
  {
   "cell_type": "code",
   "execution_count": 20,
   "metadata": {},
   "outputs": [],
   "source": [
    "#Quando não sabemos a quantidade de parâmetros basta usar o *\n",
    "def variosParametros(*parametros):\n",
    "    for n,item in enumerate(parametros): #utilizou uma função\n",
    "        print('Parâmetro',n, item)\n",
    "    return"
   ]
  },
  {
   "cell_type": "code",
   "execution_count": 22,
   "metadata": {},
   "outputs": [
    {
     "name": "stdout",
     "output_type": "stream",
     "text": [
      "Parâmetro 0 Cibele\n",
      "Parâmetro 1 Suely\n",
      "Parâmetro 2 Giggio\n",
      "Parâmetro 3 Madá\n",
      "Parâmetro 4 Luquinhas\n"
     ]
    }
   ],
   "source": [
    "variosParametros('Cibele','Suely','Giggio','Madá','Luquinhas')"
   ]
  },
  {
   "cell_type": "code",
   "execution_count": 23,
   "metadata": {},
   "outputs": [
    {
     "name": "stdout",
     "output_type": "stream",
     "text": [
      "Parâmetro 0 Pitomba\n",
      "Parâmetro 1 Jambo\n",
      "Parâmetro 2 siriguela\n",
      "Parâmetro 3 umbu\n"
     ]
    }
   ],
   "source": [
    "variosParametros('Pitomba', 'Jambo','siriguela','umbu')"
   ]
  },
  {
   "cell_type": "markdown",
   "metadata": {},
   "source": [
    "CRIANDO UMA CALCULADORA"
   ]
  },
  {
   "cell_type": "code",
   "execution_count": 25,
   "metadata": {},
   "outputs": [],
   "source": [
    "def soma(n1,n2):\n",
    "    return n1+ n2\n",
    "\n",
    "def subtrai(n1,n2):\n",
    "    return n1-n2\n",
    "\n",
    "def multiplica(n1,n2):\n",
    "    return n1*n2\n",
    "\n",
    "def divide(n1,n2):\n",
    "    return n1/n2\n",
    "\n"
   ]
  },
  {
   "cell_type": "code",
   "execution_count": 27,
   "metadata": {},
   "outputs": [],
   "source": [
    "while True:\n",
    "    print('')\n",
    "    print('')"
   ]
  }
 ],
 "metadata": {
  "kernelspec": {
   "display_name": "Python 3",
   "language": "python",
   "name": "python3"
  },
  "language_info": {
   "codemirror_mode": {
    "name": "ipython",
    "version": 3
   },
   "file_extension": ".py",
   "mimetype": "text/x-python",
   "name": "python",
   "nbconvert_exporter": "python",
   "pygments_lexer": "ipython3",
   "version": "3.11.4"
  }
 },
 "nbformat": 4,
 "nbformat_minor": 2
}
