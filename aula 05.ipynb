{
 "cells": [
  {
   "cell_type": "markdown",
   "metadata": {},
   "source": [
    "for"
   ]
  },
  {
   "cell_type": "code",
   "execution_count": 1,
   "metadata": {},
   "outputs": [],
   "source": [
    "for produto in range (0, 4):\n",
    "    p = str(input('Digite o nome do produto:'))\n",
    "    v= float(input('Digite o valor do produto'))"
   ]
  },
  {
   "cell_type": "code",
   "execution_count": 2,
   "metadata": {},
   "outputs": [
    {
     "name": "stdout",
     "output_type": "stream",
     "text": [
      "Estamos no elemento 1\n",
      "Estamos no elemento 2\n",
      "Estamos no elemento 3\n",
      "Estamos no elemento 4\n",
      "Estamos no elemento 5\n",
      "Estamos no elemento 6\n"
     ]
    }
   ],
   "source": [
    "for elemento in [1, 2, 3, 4, 5, 6]: ## repetição, printando essa frase até chegar no 6\n",
    "    print('Estamos no elemento', elemento)"
   ]
  },
  {
   "cell_type": "code",
   "execution_count": 3,
   "metadata": {},
   "outputs": [
    {
     "name": "stdout",
     "output_type": "stream",
     "text": [
      "Estamos no elemento S\n",
      "Estamos no elemento T\n",
      "Estamos no elemento R\n",
      "Estamos no elemento I\n",
      "Estamos no elemento N\n",
      "Estamos no elemento G\n"
     ]
    }
   ],
   "source": [
    "for elemento in 'STRING':\n",
    "    print('Estamos no elemento', elemento)"
   ]
  },
  {
   "cell_type": "markdown",
   "metadata": {},
   "source": [
    "for, range, len \n",
    "for = para \n",
    "len = vai medir"
   ]
  },
  {
   "cell_type": "code",
   "execution_count": 5,
   "metadata": {},
   "outputs": [
    {
     "name": "stdout",
     "output_type": "stream",
     "text": [
      "Estamos no elemento 0\n",
      "Estamos no elemento 1\n",
      "Estamos no elemento 2\n",
      "Estamos no elemento 3\n",
      "Estamos no elemento 4\n",
      "Estamos no elemento 5\n"
     ]
    }
   ],
   "source": [
    "for elemento in range(len(\"STRING\")):       \n",
    "    print('Estamos no elemento', elemento)\n",
    "    ## oq é o range? vai contar os elementos nesse caso    (ele é preciso de um número)\n",
    "    ## oq é o len?   vai dar o intervalo (dando a quantidade de elementos) ele vai medir "
   ]
  },
  {
   "cell_type": "markdown",
   "metadata": {},
   "source": [
    "While = repetição\n",
    "siginifica enquanto"
   ]
  },
  {
   "cell_type": "code",
   "execution_count": 9,
   "metadata": {},
   "outputs": [],
   "source": [
    "produto = 0 ## incialização\n",
    "while produto < 4: #Condição\n",
    "    ##Corpo do LOOP\n",
    "    p = str(input('digite o nome do produto:'))     ##corpo do loop\n",
    "    v = float(input('digite o valor do produto:'))  ##corpo do loop\n",
    "    produto += 1 ##incremento\n",
    "\n",
    "    ## IMPORTANTE VOU ANOTAR \n"
   ]
  },
  {
   "cell_type": "code",
   "execution_count": 18,
   "metadata": {},
   "outputs": [
    {
     "name": "stdout",
     "output_type": "stream",
     "text": [
      "Estamos no elemento 0\n",
      "Estamos no elemento 1\n",
      "Estamos no elemento 2\n",
      "Estamos no elemento 3\n",
      "Estamos no elemento 4\n",
      "Estamos no elemento 5\n",
      "Estamos no elemento 6\n"
     ]
    }
   ],
   "source": [
    "elemento = 0\n",
    "while elemento <= len ([1, 2, 3, 4, 5, 6,]):\n",
    "    print('Estamos no elemento', elemento)\n",
    "    elemento += 1 # o incrimento evita o loop infinito \n",
    "    ## IMPORTANTE VOU ANOTAR "
   ]
  },
  {
   "cell_type": "code",
   "execution_count": 19,
   "metadata": {},
   "outputs": [
    {
     "name": "stdout",
     "output_type": "stream",
     "text": [
      "Estamos no elemento S\n",
      "Estamos no elemento T\n",
      "Estamos no elemento R\n",
      "Estamos no elemento I\n",
      "Estamos no elemento N\n",
      "Estamos no elemento G\n"
     ]
    }
   ],
   "source": [
    "s = \"STRING\"\n",
    "indice = 0 \n",
    "\n",
    "while indice in range (len (s)):\n",
    "    print('Estamos no elemento', s[indice])\n",
    "    indice +=1 "
   ]
  },
  {
   "cell_type": "markdown",
   "metadata": {},
   "source": [
    "enumerate()"
   ]
  },
  {
   "cell_type": "code",
   "execution_count": 20,
   "metadata": {},
   "outputs": [
    {
     "name": "stdout",
     "output_type": "stream",
     "text": [
      "0 t\n",
      "1 r\n",
      "2 a\n",
      "3 n\n",
      "4 q\n",
      "5 u\n",
      "6 i\n",
      "7 l\n",
      "8 o\n"
     ]
    }
   ],
   "source": [
    "palavra = 'tranquilo'\n",
    "for indice, letra in enumerate(palavra):\n",
    "    print(indice, letra)"
   ]
  },
  {
   "cell_type": "code",
   "execution_count": 23,
   "metadata": {},
   "outputs": [
    {
     "name": "stdout",
     "output_type": "stream",
     "text": [
      "Tipo: <class 'enumerate'>\n",
      "[(0, 'eat'), (1, 'sleep'), (2, 'repeat')]\n"
     ]
    }
   ],
   "source": [
    "lista = ['eat', 'sleep', 'repeat']\n",
    "palavra = 'geek'\n",
    "\n",
    "objeto1 = enumerate (lista)\n",
    "objeto2 = enumerate (palavra)\n",
    "\n",
    "print ('Tipo:', type(objeto1))\n",
    "print (list(enumerate(lista)))"
   ]
  },
  {
   "cell_type": "code",
   "execution_count": 26,
   "metadata": {},
   "outputs": [
    {
     "name": "stdout",
     "output_type": "stream",
     "text": [
      "oi\n",
      "oi\n",
      "oi\n",
      "oi\n",
      "oi\n",
      "oi\n",
      "oi\n",
      "oi\n",
      "oi\n",
      "oi\n",
      "oi\n",
      "oi\n",
      "oi\n"
     ]
    }
   ],
   "source": [
    "#quantas vezes a palavra OI é impressa pelos seguintes comando?\n",
    "s = \"viva o python\" #para a quantidade de caracteres dentro de s, print\n",
    "for ch in s:        #ch é  variavel: para a quantidade de caracteres dentro de s, print\n",
    "    print('oi')\n"
   ]
  },
  {
   "cell_type": "code",
   "execution_count": 27,
   "metadata": {},
   "outputs": [
    {
     "name": "stdout",
     "output_type": "stream",
     "text": [
      "oi\n",
      "oi\n",
      "oi\n",
      "oi\n",
      "oi\n"
     ]
    }
   ],
   "source": [
    "s = \"viva o python\"\n",
    "for ch in s[3:8]:\n",
    "    print('oi')"
   ]
  },
  {
   "cell_type": "code",
   "execution_count": 31,
   "metadata": {},
   "outputs": [],
   "source": [
    "#Faça um programa que peça 10 número inteiros calcule e mostre a quantidade de números pares e a quantidade de números ímpares.\n",
    "numeroPedido = 0\n",
    "while numeroPedido < 10:\n",
    "    int(input('DIgite um número inteiro:'))\n",
    "    numeroPedido += 1 "
   ]
  },
  {
   "cell_type": "code",
   "execution_count": 32,
   "metadata": {},
   "outputs": [
    {
     "name": "stdout",
     "output_type": "stream",
     "text": [
      "Quantidade de números pares: 5\n",
      "Quantidade de números ímpares: 5\n"
     ]
    }
   ],
   "source": [
    "pares = 0\n",
    "impares = 0\n",
    " \n",
    "for numero in range(10):\n",
    "    numero = int(input(\"Digite um número inteiro: \"))\n",
    "    if numero % 2 == 0:\n",
    "        pares +=1\n",
    "    else:\n",
    "        impares +=1\n",
    " \n",
    "print(f\"Quantidade de números pares: {pares}\") #o F é para consegui colocar variaveis \n",
    "print(f\"Quantidade de números ímpares: {impares}\")"
   ]
  }
 ],
 "metadata": {
  "kernelspec": {
   "display_name": "Python 3",
   "language": "python",
   "name": "python3"
  },
  "language_info": {
   "codemirror_mode": {
    "name": "ipython",
    "version": 3
   },
   "file_extension": ".py",
   "mimetype": "text/x-python",
   "name": "python",
   "nbconvert_exporter": "python",
   "pygments_lexer": "ipython3",
   "version": "3.11.4"
  }
 },
 "nbformat": 4,
 "nbformat_minor": 2
}
