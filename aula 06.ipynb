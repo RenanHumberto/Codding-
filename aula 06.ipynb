{
 "cells": [
  {
   "cell_type": "code",
   "execution_count": 19,
   "metadata": {},
   "outputs": [
    {
     "name": "stdout",
     "output_type": "stream",
     "text": [
      "5 patinhos, foram passear \n",
      " além das montanhas para brincar \n",
      " a mamãe gritou: Quá, Quá, Quá, Quá \n",
      " mas só 4 patihnhos voltaram de lá \n",
      "4 patinhos, foram passear \n",
      " além das montanhas para brincar \n",
      " a mamãe gritou: Quá, Quá, Quá, Quá \n",
      " mas só 3 patihnhos voltaram de lá \n",
      "3 patinhos, foram passear \n",
      " além das montanhas para brincar \n",
      " a mamãe gritou: Quá, Quá, Quá, Quá \n",
      " mas só 2 patihnhos voltaram de lá \n",
      "2 patinhos, foram passear \n",
      " além das montanhas para brincar \n",
      " a mamãe gritou: Quá, Quá, Quá, Quá \n",
      " mas só 1 patihnhos voltaram de lá \n",
      "1 patinho, foi passear \n",
      " além das montanhas para brincar \n",
      " a mamãe gritou: Quá, Quá, Quá, Quá \n",
      " mas nenhum patinho voltou de lá de lá \n"
     ]
    }
   ],
   "source": [
    "#Questão1:  Os patinhos da Xuxa\n",
    "patinho = 5\n",
    "for estrofe in range(0, 5):\n",
    "    if(patinho == 1):\n",
    "        e = print(f'{patinho} patinho, foi passear \\n além das montanhas para brincar \\n a mamãe gritou: Quá, Quá, Quá, Quá \\n mas nenhum patinho voltou de lá de lá ')\n",
    "    else:\n",
    "        e = print(f'{patinho} patinhos, foram passear \\n além das montanhas para brincar \\n a mamãe gritou: Quá, Quá, Quá, Quá \\n mas só {patinho -1} patihnhos voltaram de lá ') \n",
    "        patinho -= 1\n",
    "#fim = print(f\"A mamãe patinha\")"
   ]
  },
  {
   "cell_type": "code",
   "execution_count": 51,
   "metadata": {},
   "outputs": [
    {
     "name": "stdout",
     "output_type": "stream",
     "text": [
      "1 elefante incomoda muita gente\n",
      "2  incomodam incomodam muito mais\n",
      "3 elefantes incomodam muita gente\n",
      "4  incomodam incomodam incomodam incomodam muito mais\n",
      "5 elefantes incomodam muita gente\n",
      "6  incomodam incomodam incomodam incomodam incomodam incomodam muito mais\n",
      "7 elefantes incomodam muita gente\n",
      "8  incomodam incomodam incomodam incomodam incomodam incomodam incomodam incomodam muito mais\n",
      "9 elefantes incomodam muita gente\n",
      "10  incomodam incomodam incomodam incomodam incomodam incomodam incomodam incomodam incomodam incomodam muito mais\n"
     ]
    }
   ],
   "source": [
    "#Questão 2: Elefantes Incomodam muito mais \n",
    "elefantes= 1\n",
    "for estrofe in range(0, 10):\n",
    "    if(elefantes ==1):\n",
    "        e = print (f'{elefantes} elefante incomoda muita gente')\n",
    "    elif(elefantes % 2 == 0):\n",
    "        e = print (elefantes, ' incomodam' * elefantes ,'muito mais')\n",
    "    else:\n",
    "        e = print (elefantes,  'elefantes incomodam muita gente')\n",
    "    elefantes +=1\n",
    "\n",
    "\n",
    "    "
   ]
  },
  {
   "cell_type": "code",
   "execution_count": 54,
   "metadata": {},
   "outputs": [
    {
     "name": "stdout",
     "output_type": "stream",
     "text": [
      "10 elefantes incomoda pouca gente\n",
      "9 elefantes incomoda incomoda incomoda incomoda incomoda incomoda incomoda incomoda incomoda  muito menos\n",
      "8 elefantes incomoda pouca gente\n",
      "7 elefantes incomoda incomoda incomoda incomoda incomoda incomoda incomoda  muito menos\n",
      "6 elefantes incomoda pouca gente\n",
      "5 elefantes incomoda incomoda incomoda incomoda incomoda  muito menos\n",
      "4 elefantes incomoda pouca gente\n",
      "3 elefantes incomoda incomoda incomoda  muito menos\n",
      "2 elefantes incomoda pouca gente\n",
      "1 elefante incomoda muita gente\n"
     ]
    }
   ],
   "source": [
    "elefantes= 10\n",
    "for estrofe in range(0, 10):\n",
    "    if(elefantes ==1):\n",
    "        e = print (f'{elefantes} elefante incomoda muita gente')\n",
    "    elif(elefantes  % 2 != 0):\n",
    "        e = print (elefantes,'elefantes', 'incomoda ' * elefantes ,'muito menos')\n",
    "    else:\n",
    "        e = print (elefantes,  'elefantes incomoda pouca gente')\n",
    "    elefantes -=1"
   ]
  },
  {
   "cell_type": "code",
   "execution_count": 62,
   "metadata": {},
   "outputs": [
    {
     "name": "stdout",
     "output_type": "stream",
     "text": [
      "Mariana conta 1\n"
     ]
    },
    {
     "ename": "TypeError",
     "evalue": "can only concatenate tuple (not \"int\") to tuple",
     "output_type": "error",
     "traceback": [
      "\u001b[1;31m---------------------------------------------------------------------------\u001b[0m",
      "\u001b[1;31mTypeError\u001b[0m                                 Traceback (most recent call last)",
      "Cell \u001b[1;32mIn[62], line 8\u001b[0m\n\u001b[0;32m      6\u001b[0m     mariana \u001b[38;5;241m=\u001b[39m \u001b[38;5;28mprint\u001b[39m(\u001b[38;5;124m'\u001b[39m\u001b[38;5;124mMariana conta\u001b[39m\u001b[38;5;124m'\u001b[39m, conta)\n\u001b[0;32m      7\u001b[0m \u001b[38;5;28;01melse\u001b[39;00m:\n\u001b[1;32m----> 8\u001b[0m     mariana \u001b[38;5;241m=\u001b[39m \u001b[38;5;28mprint\u001b[39m(\u001b[38;5;124m'\u001b[39m\u001b[38;5;124mMarina conta\u001b[39m\u001b[38;5;124m'\u001b[39m, (\u001b[43mcontador\u001b[49m\u001b[43m \u001b[49m\u001b[38;5;241;43m+\u001b[39;49m\u001b[43m \u001b[49m\u001b[43mconta\u001b[49m), conta)\n\u001b[0;32m      9\u001b[0m conta \u001b[38;5;241m+\u001b[39m\u001b[38;5;241m=\u001b[39m\u001b[38;5;241m1\u001b[39m\n\u001b[0;32m     10\u001b[0m contador \u001b[38;5;241m=\u001b[39m \u001b[38;5;124m'\u001b[39m\u001b[38;5;124mé\u001b[39m\u001b[38;5;124m'\u001b[39m, conta \n",
      "\u001b[1;31mTypeError\u001b[0m: can only concatenate tuple (not \"int\") to tuple"
     ]
    }
   ],
   "source": [
    "#Questão 3\n",
    "\n",
    "conta = 1\n",
    "for i in range (0,10):\n",
    "    if(conta ==1):\n",
    "        mariana = print('Mariana conta', conta)\n",
    "    else:\n",
    "        mariana = print('Marina conta', (contador + conta), conta)\n",
    "    conta +=1\n",
    "    contador = 'é', conta "
   ]
  },
  {
   "cell_type": "code",
   "execution_count": null,
   "metadata": {},
   "outputs": [],
   "source": []
  }
 ],
 "metadata": {
  "kernelspec": {
   "display_name": "Python 3",
   "language": "python",
   "name": "python3"
  },
  "language_info": {
   "codemirror_mode": {
    "name": "ipython",
    "version": 3
   },
   "file_extension": ".py",
   "mimetype": "text/x-python",
   "name": "python",
   "nbconvert_exporter": "python",
   "pygments_lexer": "ipython3",
   "version": "3.11.4"
  }
 },
 "nbformat": 4,
 "nbformat_minor": 2
}
