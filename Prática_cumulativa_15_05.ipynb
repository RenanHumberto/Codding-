{
  "nbformat": 4,
  "nbformat_minor": 0,
  "metadata": {
    "colab": {
      "provenance": [],
      "authorship_tag": "ABX9TyOop1kicFrOjSCHt3BiquNJ",
      "include_colab_link": true
    },
    "kernelspec": {
      "name": "python3",
      "display_name": "Python 3"
    },
    "language_info": {
      "name": "python"
    }
  },
  "cells": [
    {
      "cell_type": "markdown",
      "metadata": {
        "id": "view-in-github",
        "colab_type": "text"
      },
      "source": [
        "<a href=\"https://colab.research.google.com/github/RenanHumberto/Codding-/blob/main/Pr%C3%A1tica_cumulativa_15_05.ipynb\" target=\"_parent\"><img src=\"https://colab.research.google.com/assets/colab-badge.svg\" alt=\"Open In Colab\"/></a>"
      ]
    },
    {
      "cell_type": "code",
      "execution_count": null,
      "metadata": {
        "id": "PMRB-hu5ZClT"
      },
      "outputs": [],
      "source": [
        "#1- Faça um progrema que verifique se uma letra digitada é vogal ou consoante\n",
        "letra = input('Escolha uma vogal ou uma consoante:')\n",
        "if(letra == 'A' or letra == 'a' or letra == 'e' or letra == 'E' or letra == 'I' or letra == 'i' or letra == 'o' or letra == 'O' or letra == 'u' or letra == \"U\"):\n",
        "    print(f'A vogal que você escolheu foi: {letra}')\n",
        "else:\n",
        "    print(f'A consoante que você digitou foi: {letra}')\n"
      ]
    },
    {
      "cell_type": "code",
      "source": [
        "#2 - Faça um programa que pergunte o preço de três produtos e informe qual produto você deve comprar , sabendo que a decisção é sempre pelo mais barato\n",
        "i = 1\n",
        "preco_mais_barato = float('inf')\n",
        "produto_mais_barato = ''\n",
        "\n",
        "while i <= 3:\n",
        "    produto = input(f'Digite o nome do produto {i}: ')\n",
        "    preco = float(input(f'Digite o preço do produto {i}: '))\n",
        "    if preco != preco_mais_barato:\n",
        "        preco_mais_barato = preco\n",
        "        produto_mais_barato = produto\n",
        "    i += 1\n",
        "\n",
        "print(f'Você deve comprar o produto {produto_mais_barato}, que custa R${preco_mais_barato}.')"
      ],
      "metadata": {
        "id": "bXrKe-17ZLNM"
      },
      "execution_count": null,
      "outputs": []
    },
    {
      "cell_type": "code",
      "source": [
        "#3-\n",
        "primeiroProduto= input('Digite o nome do produto 1:')\n",
        "primeiroPreco = float(input(f'Digite o preço do produto: '))\n",
        "segundoProduto= input('Digite o nome do produto 2:')\n",
        "segundoPreco = float(input(f'Digite o preço do produto: '))\n",
        "terceiroProduto= input('Digite o nome do produto 3:')\n",
        "terceiroPreco = float(input(f'Digite o preço do produto: '))\n",
        "\n",
        "if(primeiroPreco > segundoPreco and terceiroPreco):\n",
        "  print(f'Você deve comprar o {primeiroProduto} que custa: {primeiroPreco}')\n",
        "elif ((segundoPreco > primeiroPreco and terceiroPreco)):\n",
        "  print(f'Você deve comprar o {segundoProduto} que custa: {segundoPreco}')\n",
        "else:\n",
        "  print(f'Você deve comprar o {terceiroProduto} que custa: {terceiroPreco}')"
      ],
      "metadata": {
        "id": "aBVLIcnvZNHP"
      },
      "execution_count": null,
      "outputs": []
    },
    {
      "cell_type": "code",
      "source": [
        "#4- Faça um programa que pergunte em que turno você estude. Peça para digitiar M-Matutino ou V-Vespetino ou N- Noturno.\n",
        "#Imprima a mensagem \"Bom dia!\", \"Boa tarde!\",\"Boa noite!\" ou valor inválido, coforme o caso.\n",
        "turno = input('Informe qual turno você estuda: |M - Matutino |V-Vespertino |N - Noturno|')\n",
        "if(turno == 'Matutino' or  turno == 'M'):\n",
        "  print('Bom dia meu lindo')\n",
        "elif(turno == 'Vespertino' or turno == 'V'):\n",
        "  print('Boa tarde meu lindo')\n",
        "elif(turno == 'Noturno' or turno == 'N'):\n",
        "  print('Boa noite meu lindo')\n",
        "else:\n",
        "  print ('Mano n sei qual o teu turno')"
      ],
      "metadata": {
        "id": "H4uf7MgDZQam"
      },
      "execution_count": null,
      "outputs": []
    },
    {
      "cell_type": "code",
      "source": [
        "#5- Faça um programa que leia um número e exiba o dia correspondente da semana. (1- Domingo, 2- Segunda, etc).\n",
        "# Se for digitado outro valor deve retornar uma mensagem informando o valor inválido\n",
        "num = int(input('Digite um número e eu lhe direi qual dia da semana ele corresponde: '))\n",
        "if(num == 1):\n",
        "  print(f'O dia semana que corresponde ao número {num} é o Domingo!')\n",
        "elif((num == 2 )):\n",
        "  print(f'O dia semana que corresponde ao número {num} é a segunda-feira!')\n",
        "elif((num == 3 )):\n",
        "  print(f'O dia semana que corresponde ao número {num} é a terça-feira!')\n",
        "elif((num == 4 )):\n",
        "  print(f'O dia semana que corresponde ao número {num} é a quarta-feira!')\n",
        "elif((num == 5 )):\n",
        "  print(f'O dia semana que corresponde ao número {num} é a quinta-feira!')\n",
        "elif((num == 6 )):\n",
        "  print(f'O dia semana que corresponde ao número {num} é sexta-feira!')\n",
        "elif((num == 7)):\n",
        "  print(f'O dia semana que corresponde ao número {num} é o sábado!')\n"
      ],
      "metadata": {
        "id": "hVwGuE1QZT_6"
      },
      "execution_count": null,
      "outputs": []
    },
    {
      "cell_type": "code",
      "source": [
        "#6- Faça um programa que lê as duas notas parciais obtidas por um aluno numa disciplina ao longo de um semtestre,\n",
        "#e calcule a sua média.\n",
        "nota1 = float(input('Insira a sua primeira nota: '))\n",
        "nota2 = float(input('Insira a sua segunda nota: '))\n",
        "media = (nota1 + nota2) /2\n",
        "if( 9.0 <=  media <=10.0):\n",
        "  print('Seu conceito foi nota A')\n",
        "  print(media)\n",
        "elif( 7.5 <= media < 9.0):\n",
        "  print('Seu conceito foi B')\n",
        "elif( 6.0<= media < 7.5):\n",
        "  print('Seu conceito foi C')\n",
        "elif( 4.0<= media < 6.0):\n",
        "  print('Seu conceito foi D ')\n",
        "else:\n",
        "  print('Você está reprovado')"
      ],
      "metadata": {
        "id": "H5aTZVAbZVYm"
      },
      "execution_count": null,
      "outputs": []
    },
    {
      "cell_type": "code",
      "source": [
        "#7- Faça um programa que leia 2 números e em seguida pergunte ao usuário qual operação básica (soma, subtração,multiplicação\n",
        "#, divisão, exponenciação) ele deseja realizar. O resultado da operação deve ser acompanhado de uma frase que diga se o número\n",
        "# é: par ou impar, positivo ou negativo, inteiro ou decimal\n",
        "\n",
        "num1 = float(input('Insira o primeiro número: '))\n",
        "num2 = float(input('Insira o segundo número: '))\n",
        "operacao = input('Qual operação você deseja realizar? (soma, subtração, multiplicação, divisão, exponenciação): ')\n",
        "\n",
        "if operacao == 'soma' or operacao == 'Soma':\n",
        "    resultado = num1 + num2\n",
        "elif operacao == 'subtração' or operacao == 'Subtração':\n",
        "    resultado = num1 - num2\n",
        "elif operacao == 'multiplicação' or operacao == 'Multiplicação':\n",
        "    resultado = num1 * num2\n",
        "elif operacao == 'divisão' or operacao == 'Divisão':\n",
        "    resultado = num1 / num2\n",
        "elif operacao == 'exponenciação' or operacao == 'Exponenciação':\n",
        "    resultado = num1 ** num2\n",
        "else:\n",
        "    print('Operação não reconhecida.')\n",
        "    exit()\n",
        "\n",
        "# Verifica se o resultado é par ou ímpar\n",
        "if resultado % 2 == 0:\n",
        "    paridade = 'par'\n",
        "else:\n",
        "    paridade = 'ímpar'\n",
        "\n",
        "# Verifica se o resultado é positivo ou negativo\n",
        "if resultado >= 0:\n",
        "    sinal = 'positivo'\n",
        "else:\n",
        "    sinal = 'negativo'\n",
        "\n",
        "# Verifica se o resultado é inteiro ou decimal\n",
        "if resultado == int(resultado):\n",
        "    tipo = 'inteiro'\n",
        "else:\n",
        "    tipo = 'decimal'\n",
        "\n",
        "print(f' o Resultado da sua opreção é: {resultado}')\n",
        "print(f'O seu resultado é, {paridade}, {sinal} e {tipo}')\n"
      ],
      "metadata": {
        "id": "hEZ6K9PlZX2r"
      },
      "execution_count": null,
      "outputs": []
    },
    {
      "cell_type": "code",
      "source": [
        "#8- Faça um programa que peça a ideade e exiba a informação. Os valroes aceitáveis devem estar entre 0 e 150.\n",
        "# Valores fora desse limite não poderão ser aceitos\n",
        "idade = int(input('Qual a sua idade? '))\n",
        "if(0 <= idade <= 150):\n",
        "  print(f' A sua idade é de {idade} anos')\n",
        "else:\n",
        "  print('Sua idade não é aceita. Apenas valroes entre 0 e 150 são aceitos!')\n"
      ],
      "metadata": {
        "id": "hGmbDeOCZaRc"
      },
      "execution_count": null,
      "outputs": []
    },
    {
      "cell_type": "code",
      "source": [
        "#9- Utilizando estruturas de repetição e listas(com ou sem append), faça um programa que leia 5 números e informe\n",
        "# a soma e a média dos números.\n",
        "i = 1\n",
        "lista = []\n",
        "while i <= 5:\n",
        "  num = int(input('Digite um número: '))\n",
        "  lista.append(num)\n",
        "  i += 1\n",
        "soma = lista[0] + lista[1] + lista[2] + lista[3] + lista[4]\n",
        "media = (lista[0] + lista[1] + lista[2] + lista[3] + lista[4]) / 2\n",
        "print(f'A soma de todos esses números que você digitou é de: {soma}')\n",
        "print(f'A média de todos esses números que você digitou é de: {media}')\n"
      ],
      "metadata": {
        "id": "SOVi8as_Zcbz"
      },
      "execution_count": null,
      "outputs": []
    },
    {
      "cell_type": "code",
      "source": [
        "#11- Peça 5 temperaturas e informe ao fianl a menor e maior temperatura informada, também informe a média delas\n",
        "i = 1\n",
        "lista = []\n",
        "while i <= 5:\n",
        "  temp = float(input(\"Digite uma temperatura em C°: \"))\n",
        "  i += 1\n",
        "  lista.append(temp)\n",
        "\n",
        "media = (lista[0] + lista[1] + lista[2] + lista[3] + lista[4]) /2\n",
        "menorTemp = min(lista)\n",
        "maiorTemp = max(lista)\n",
        "\n",
        "print(f'A temperatura minima é de: {menorTemp}')\n",
        "print(f'A temperatura maxima é de: {maiorTemp}')\n",
        "print(f'A média dessas temperaturas é de: {media}')"
      ],
      "metadata": {
        "id": "BwTsR7-pZcvP"
      },
      "execution_count": null,
      "outputs": []
    },
    {
      "cell_type": "code",
      "source": [
        "#12- Um banco concederá um crédito especial aos seus clientes, variável com o saldo médio no último ano. Faça um algoritmo\n",
        "#Faça um algoritmo que leia o saldo médio de um cliente e calcule o valor do crédito de acordo com a tabela. mostre\n",
        "#uma mensagem informando o saldo médio e o valor do crédito.\n",
        "credito = float(input('Qual o valor do seu crédito: '))\n",
        "if(0<= credito <= 200):\n",
        "  percentual = \"nenhum percentual foi incluido\"\n",
        "  print(f'O saldo do seu crédito médio é de {credito} e o seu valor percentual é de: {percentual}')\n",
        "elif(201<= credito <=400 ):\n",
        "  percentual = credito * 0.2\n",
        "  print(f'O saldo do seu crédito médio é de {credito} e o seu valor percentual é de: {percentual}')\n",
        "elif(401 <= credito <= 600):\n",
        "  percentual = credito * 0.3\n",
        "  print(f'O saldo do seu crédito médio é de {credito} e o seu valor percentual é de: {percentual}')\n",
        "else:\n",
        "  percentual = credito * 0.4\n",
        "  print(f'O saldo do seu crédito médio é de {credito} e o seu valor percentual é de: {percentual}')\n",
        "\n"
      ],
      "metadata": {
        "id": "1jV2jI2_Zc-o"
      },
      "execution_count": null,
      "outputs": []
    },
    {
      "cell_type": "code",
      "source": [
        "#13- Você foi contratado para fazer um serviço para o INSS. O trabalho consiste em criar um programa que diga a pessoa\n",
        "# o ano que ela pode´ra se aposentar. Você deve perguntar a pessoa, NOME, IDADE e criar uma mensagem dizendo em qual\n",
        "#ano ela vai se aposentar. Considere que todas as pessoas poderão se aposentar aos 65 anos de idade\n",
        "\n",
        "nome = input('Qual o seu nome: ')\n",
        "idade = int(input('Qual a sua idade: '))\n",
        "\n",
        "anoAtual = 2024\n",
        "anoFalta = 65 - idade\n",
        "anoAposentadoria = anoAtual + anoFalta\n",
        "\n",
        "print(f'{nome}, você ira se aposentar em {anoAposentadoria}')\n",
        "\n"
      ],
      "metadata": {
        "id": "O4a0s62OZdc3"
      },
      "execution_count": null,
      "outputs": []
    }
  ]
}